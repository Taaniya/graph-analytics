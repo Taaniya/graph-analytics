{
  "nbformat": 4,
  "nbformat_minor": 0,
  "metadata": {
    "colab": {
      "provenance": [],
      "collapsed_sections": [],
      "authorship_tag": "ABX9TyP//epgn44OlALUqeMYufis",
      "include_colab_link": true
    },
    "kernelspec": {
      "name": "python3",
      "display_name": "Python 3"
    }
  },
  "cells": [
    {
      "cell_type": "markdown",
      "metadata": {
        "id": "view-in-github",
        "colab_type": "text"
      },
      "source": [
        "<a href=\"https://colab.research.google.com/github/Taaniya/graph-analytics/blob/master/Graph_Laplacian_and_Spectral_Clustering.ipynb\" target=\"_parent\"><img src=\"https://colab.research.google.com/assets/colab-badge.svg\" alt=\"Open In Colab\"/></a>"
      ]
    },
    {
      "cell_type": "code",
      "metadata": {
        "id": "TI5dum0IXSJk"
      },
      "source": [
        "import numpy as np\n",
        "from sklearn.datasets import make_moons\n",
        "from sklearn.neighbors import kneighbors_graph\n",
        "from scipy import sparse\n",
        "import networkx as nx\n",
        "import matplotlib.pyplot as plt\n",
        "from sklearn.cluster import KMeans\n",
        "from sklearn.metrics import homogeneity_score, completeness_score,v_measure_score\n",
        "\n",
        "random_state = 213\n",
        "np.random.seed(random_state)"
      ],
      "execution_count": 1,
      "outputs": []
    },
    {
      "cell_type": "markdown",
      "metadata": {
        "id": "Ytt2sxjvhNgx"
      },
      "source": [
        "### 1. Construction of k-nearest graph from dataset"
      ]
    },
    {
      "cell_type": "code",
      "metadata": {
        "id": "00-ZOdaBXnkK",
        "colab": {
          "base_uri": "https://localhost:8080/"
        },
        "outputId": "5584c0a5-3b23-42a4-bb0b-cf4c4ceb378c"
      },
      "source": [
        "data_size = 150\n",
        "features,y = make_moons(n_samples=data_size, noise=0.07, random_state=213)\n",
        "print(features.shape, y.shape)\n",
        "\n",
        "data_size = features.shape[0]"
      ],
      "execution_count": 5,
      "outputs": [
        {
          "output_type": "stream",
          "name": "stdout",
          "text": [
            "(150, 2) (150,)\n"
          ]
        }
      ]
    },
    {
      "cell_type": "code",
      "metadata": {
        "id": "m5MfFxBoXsTc",
        "colab": {
          "base_uri": "https://localhost:8080/"
        },
        "outputId": "d8c0354c-dd95-42a9-9a21-bb6bb8285938"
      },
      "source": [
        "features.shape, y.shape"
      ],
      "execution_count": 6,
      "outputs": [
        {
          "output_type": "execute_result",
          "data": {
            "text/plain": [
              "((150, 2), (150,))"
            ]
          },
          "metadata": {},
          "execution_count": 6
        }
      ]
    },
    {
      "cell_type": "code",
      "metadata": {
        "id": "EV5CPeffCfqV",
        "colab": {
          "base_uri": "https://localhost:8080/",
          "height": 265
        },
        "outputId": "d0d5dcda-a962-446f-971a-de6d565f6fc7"
      },
      "source": [
        "plt.scatter(features[:,0], features[:,1], c=y.astype(float))\n",
        "plt.show()"
      ],
      "execution_count": 7,
      "outputs": [
        {
          "output_type": "display_data",
          "data": {
            "text/plain": [
              "<Figure size 432x288 with 1 Axes>"
            ],
            "image/png": "[encoded data removed]"
          },
          "metadata": {
            "needs_background": "light"
          }
        }
      ]
    },
    {
      "cell_type": "markdown",
      "metadata": {
        "id": "yiVep8uiY4s8"
      },
      "source": [
        "We can set mode of connectivity as 'distance' for the edges to represent the distance between 2 nodes or specify 'connectivity' to denote presence or absence of an edge between them with edge weight 1 or 0.\n",
        "\n",
        "In case of extreme data points/outliers in the dataset, the outliers in the resulting may even have no connectivity with even a single nearest neighbors. Many real datasets have extreme data points. These data points  can be excluded in the beginning."
      ]
    },
    {
      "cell_type": "code",
      "metadata": {
        "id": "G7raUHXYYINv",
        "colab": {
          "base_uri": "https://localhost:8080/"
        },
        "outputId": "b46e388a-1317-44b2-c9ba-3340ab617f14"
      },
      "source": [
        "n_neighbors = 10\n",
        "knn_dist_graph = kneighbors_graph(X=features, \n",
        "                             n_neighbors=n_neighbors,\n",
        "                             mode='distance',\n",
        "                             metric='euclidean',\n",
        "                             n_jobs=6)\n",
        "n_neighbors"
      ],
      "execution_count": 8,
      "outputs": [
        {
          "output_type": "execute_result",
          "data": {
            "text/plain": [
              "10"
            ]
          },
          "metadata": {},
          "execution_count": 8
        }
      ]
    },
    {
      "cell_type": "code",
      "metadata": {
        "id": "syeC7bdsZmHE",
        "colab": {
          "base_uri": "https://localhost:8080/"
        },
        "outputId": "1d0aed0d-08ec-4c9d-f811-6c30d0953c7e"
      },
      "source": [
        "knn_dist_graph.shape"
      ],
      "execution_count": 9,
      "outputs": [
        {
          "output_type": "execute_result",
          "data": {
            "text/plain": [
              "(150, 150)"
            ]
          },
          "metadata": {},
          "execution_count": 9
        }
      ]
    },
    {
      "cell_type": "markdown",
      "metadata": {
        "id": "PrnSKqJvZz3W"
      },
      "source": [
        "It returns a sparse graph with edges representing the distance between our data points. The distance of the first data points with its 50 neighbors is shown below. Note the sparsity of the graph and it will have continuous value representing distance at only those places/indices in the matrix which corresponds to its k nearest neighbours, the rest will be zero.\n",
        "\n"
      ]
    },
    {
      "cell_type": "code",
      "metadata": {
        "id": "HwNtaRk3b6yW",
        "colab": {
          "base_uri": "https://localhost:8080/",
          "height": 187
        },
        "outputId": "fd605756-4ba8-468a-ca49-015a430b191f"
      },
      "source": [
        "knn_dist_graph.todense()[0][:,:50]"
      ],
      "execution_count": null,
      "outputs": [
        {
          "output_type": "execute_result",
          "data": {
            "text/plain": [
              "matrix([[0.        , 0.        , 0.07266041, 0.        , 0.        ,\n",
              "         0.        , 0.        , 0.        , 0.        , 0.        ,\n",
              "         0.        , 0.        , 0.        , 0.        , 0.        ,\n",
              "         0.        , 0.        , 0.        , 0.        , 0.        ,\n",
              "         0.        , 0.        , 0.        , 0.        , 0.        ,\n",
              "         0.        , 0.        , 0.        , 0.        , 0.        ,\n",
              "         0.        , 0.        , 0.        , 0.        , 0.        ,\n",
              "         0.        , 0.        , 0.        , 0.        , 0.        ,\n",
              "         0.        , 0.        , 0.06969749, 0.        , 0.        ,\n",
              "         0.        , 0.        , 0.        , 0.        , 0.        ]])"
            ]
          },
          "metadata": {
            "tags": []
          },
          "execution_count": 137
        }
      ]
    },
    {
      "cell_type": "markdown",
      "source": [
        "The distance of the first data point with all its 10 neighbors is shown below"
      ],
      "metadata": {
        "id": "oYsAovlE76T_"
      }
    },
    {
      "cell_type": "code",
      "source": [
        "knn_dist_graph.todense()[0]"
      ],
      "metadata": {
        "colab": {
          "base_uri": "https://localhost:8080/"
        },
        "id": "sY3ykp_27II3",
        "outputId": "91a186e3-733b-4f96-cfc7-05e793ae2ee0"
      },
      "execution_count": 14,
      "outputs": [
        {
          "output_type": "execute_result",
          "data": {
            "text/plain": [
              "matrix([[0.        , 0.        , 0.07266041, 0.        , 0.        ,\n",
              "         0.        , 0.        , 0.        , 0.        , 0.        ,\n",
              "         0.        , 0.        , 0.        , 0.        , 0.        ,\n",
              "         0.        , 0.        , 0.        , 0.1943875 , 0.        ,\n",
              "         0.        , 0.        , 0.15397041, 0.        , 0.        ,\n",
              "         0.        , 0.        , 0.        , 0.        , 0.        ,\n",
              "         0.        , 0.        , 0.        , 0.        , 0.        ,\n",
              "         0.        , 0.        , 0.        , 0.        , 0.        ,\n",
              "         0.        , 0.        , 0.06969749, 0.        , 0.        ,\n",
              "         0.        , 0.        , 0.        , 0.        , 0.        ,\n",
              "         0.        , 0.        , 0.13421846, 0.        , 0.        ,\n",
              "         0.        , 0.        , 0.        , 0.        , 0.        ,\n",
              "         0.        , 0.        , 0.        , 0.        , 0.        ,\n",
              "         0.        , 0.        , 0.        , 0.        , 0.        ,\n",
              "         0.13220385, 0.        , 0.        , 0.        , 0.        ,\n",
              "         0.        , 0.        , 0.        , 0.        , 0.        ,\n",
              "         0.        , 0.        , 0.        , 0.        , 0.        ,\n",
              "         0.        , 0.        , 0.        , 0.        , 0.        ,\n",
              "         0.        , 0.        , 0.        , 0.        , 0.        ,\n",
              "         0.        , 0.        , 0.        , 0.        , 0.        ,\n",
              "         0.        , 0.        , 0.        , 0.        , 0.        ,\n",
              "         0.        , 0.        , 0.        , 0.        , 0.        ,\n",
              "         0.        , 0.        , 0.08985565, 0.        , 0.        ,\n",
              "         0.        , 0.23994088, 0.        , 0.        , 0.        ,\n",
              "         0.        , 0.        , 0.        , 0.        , 0.1528259 ,\n",
              "         0.        , 0.        , 0.        , 0.        , 0.        ,\n",
              "         0.        , 0.        , 0.        , 0.        , 0.        ,\n",
              "         0.        , 0.        , 0.        , 0.        , 0.16112323,\n",
              "         0.        , 0.        , 0.        , 0.        , 0.        ,\n",
              "         0.        , 0.        , 0.        , 0.        , 0.        ]])"
            ]
          },
          "metadata": {},
          "execution_count": 14
        }
      ]
    },
    {
      "cell_type": "markdown",
      "metadata": {
        "id": "bpbXs4kScRPD"
      },
      "source": [
        "This dataset is commonly used to find groups within the data points where similar data points lie in the same class or cluster.\n",
        "\n",
        "Similarly in other such cases when you want to capture similarity within the data points rather than the distance, we can convert this graph to a similarity based graph using a Gaussian kernel with its width (sigma = 1 ) and distance is euclidean distance in the non zero place in the sparse graph above.\n",
        "\n",
        "$W_{ij} = \\exp{\\frac{-d(x1,x2)^2}{2\\sigma ^2}}$\n",
        "\n"
      ]
    },
    {
      "cell_type": "code",
      "metadata": {
        "id": "eY9HcIJNZqkB"
      },
      "source": [
        "sigma = 1"
      ],
      "execution_count": null,
      "outputs": []
    },
    {
      "cell_type": "markdown",
      "metadata": {
        "id": "SmSFv7-tdeA8"
      },
      "source": [
        "Note that the locations with distance 0 here means the distance is beyond the largest distance of k nearest neighbors. This value can be interpreted as highest similarity when fed to the Gaussian kernel. So we will only apply this kernel to indices containing distances."
      ]
    },
    {
      "cell_type": "code",
      "metadata": {
        "id": "K7GmU89CdbUn",
        "colab": {
          "base_uri": "https://localhost:8080/",
          "height": 71
        },
        "outputId": "5152bd87-e038-4bfc-ad8e-f51da9c446de"
      },
      "source": [
        "  similarity_graph = sparse.csr_matrix(knn_dist_graph.shape)\n",
        "  nzeroindices = knn_dist_graph.nonzero()\n",
        "  similarity_graph[nzeroindices] = np.exp(-np.asarray(knn_dist_graph[nzeroindices])**2 / 2.0 * sigma**2)\n"
      ],
      "execution_count": null,
      "outputs": [
        {
          "output_type": "stream",
          "text": [
            "/usr/local/lib/python3.6/dist-packages/scipy/sparse/_index.py:126: SparseEfficiencyWarning: Changing the sparsity structure of a csr_matrix is expensive. lil_matrix is more efficient.\n",
            "  self._set_arrayXarray(i, j, x)\n"
          ],
          "name": "stderr"
        }
      ]
    },
    {
      "cell_type": "markdown",
      "metadata": {
        "id": "dhlkJLI6e4Ay"
      },
      "source": [
        "This graph may be assymmetric since it is based on k-nearest neighbors. We need to make this graph symmetric for reasons we will know next in properties of Laplacian. We add the transpose of its graph to itself and divide all the values by 2. \n",
        "\n"
      ]
    },
    {
      "cell_type": "code",
      "metadata": {
        "id": "YwMgsgrpeiX7"
      },
      "source": [
        "similarity_graph = 0.5 * (similarity_graph + similarity_graph.T) "
      ],
      "execution_count": null,
      "outputs": []
    },
    {
      "cell_type": "code",
      "metadata": {
        "id": "22VRzamsilMv",
        "colab": {
          "base_uri": "https://localhost:8080/",
          "height": 187
        },
        "outputId": "779889fb-4a16-48e7-d526-4b8cd73d5ab0"
      },
      "source": [
        "similarity_graph.todense()[0][:,:50]"
      ],
      "execution_count": null,
      "outputs": [
        {
          "output_type": "execute_result",
          "data": {
            "text/plain": [
              "matrix([[0.        , 0.        , 0.99736371, 0.        , 0.        ,\n",
              "         0.        , 0.        , 0.        , 0.        , 0.        ,\n",
              "         0.        , 0.        , 0.        , 0.        , 0.        ,\n",
              "         0.        , 0.        , 0.        , 0.98128411, 0.        ,\n",
              "         0.        , 0.        , 0.98821653, 0.        , 0.        ,\n",
              "         0.        , 0.        , 0.        , 0.        , 0.        ,\n",
              "         0.        , 0.        , 0.        , 0.        , 0.        ,\n",
              "         0.        , 0.        , 0.        , 0.        , 0.        ,\n",
              "         0.        , 0.        , 0.99757408, 0.        , 0.        ,\n",
              "         0.        , 0.        , 0.        , 0.        , 0.        ]])"
            ]
          },
          "metadata": {
            "tags": []
          },
          "execution_count": 147
        }
      ]
    },
    {
      "cell_type": "code",
      "metadata": {
        "id": "5iErEA86niR5",
        "colab": {
          "base_uri": "https://localhost:8080/",
          "height": 319
        },
        "outputId": "db8941cb-1774-422c-e116-e54f1106a831"
      },
      "source": [
        "# Let's see how the graph looks like\n",
        "nx_graph = nx.from_scipy_sparse_matrix(similarity_graph)\n",
        "\n",
        "nx.draw(nx_graph, with_labels=True)\n",
        "plt.show()"
      ],
      "execution_count": null,
      "outputs": [
        {
          "output_type": "display_data",
          "data": {
            "image/png": "[encoded data removed]",
            "text/plain": [
              "<Figure size 432x288 with 1 Axes>"
            ]
          },
          "metadata": {
            "tags": []
          }
        }
      ]
    },
    {
      "cell_type": "markdown",
      "metadata": {
        "id": "V5gMZYBohTCX"
      },
      "source": [
        "### 2. Deriving degree matrix from graph\n",
        "\n",
        "$D = Diag(d_1, d_2, ...,d_n)$\n",
        "\n",
        "$d_i = \\sum_{k=1}^N W_{ik}$\n",
        "\n",
        "Where W is our similarity matrix with N data points"
      ]
    },
    {
      "cell_type": "code",
      "metadata": {
        "id": "bizXsdYnhCQ_",
        "colab": {
          "base_uri": "https://localhost:8080/",
          "height": 34
        },
        "outputId": "e6c69513-b209-4558-a875-03a13d69627f"
      },
      "source": [
        "degree_matrix = similarity_graph.sum(axis=1)\n",
        "degree_matrix.shape"
      ],
      "execution_count": null,
      "outputs": [
        {
          "output_type": "execute_result",
          "data": {
            "text/plain": [
              "(150, 1)"
            ]
          },
          "metadata": {
            "tags": []
          },
          "execution_count": 149
        }
      ]
    },
    {
      "cell_type": "code",
      "metadata": {
        "id": "_R3jDk1kjqkU",
        "colab": {
          "base_uri": "https://localhost:8080/",
          "height": 102
        },
        "outputId": "8e5d0489-dcf1-4c94-beff-8272afbcb1fd"
      },
      "source": [
        "degree_matrix[:5]"
      ],
      "execution_count": null,
      "outputs": [
        {
          "output_type": "execute_result",
          "data": {
            "text/plain": [
              "matrix([[ 9.88985997],\n",
              "        [ 9.84957185],\n",
              "        [ 9.40776641],\n",
              "        [10.39306058],\n",
              "        [10.36893174]])"
            ]
          },
          "metadata": {
            "tags": []
          },
          "execution_count": 150
        }
      ]
    },
    {
      "cell_type": "code",
      "metadata": {
        "id": "ZTTzGdFJmdRC",
        "colab": {
          "base_uri": "https://localhost:8080/",
          "height": 34
        },
        "outputId": "90e9290f-8f0e-4d9e-ba32-e9501b3f9d24"
      },
      "source": [
        "# Checking for outlier data point having no neighbor i.e degree = 0\n",
        "degree_matrix[degree_matrix == 0]"
      ],
      "execution_count": null,
      "outputs": [
        {
          "output_type": "execute_result",
          "data": {
            "text/plain": [
              "matrix([], shape=(1, 0), dtype=float64)"
            ]
          },
          "metadata": {
            "tags": []
          },
          "execution_count": 151
        }
      ]
    },
    {
      "cell_type": "markdown",
      "metadata": {
        "id": "WNdWpPIvmp8o"
      },
      "source": [
        "At this point you can see any points which have degree equal to zero as outliers. "
      ]
    },
    {
      "cell_type": "markdown",
      "metadata": {
        "id": "EWntWhlwiRVt"
      },
      "source": [
        "### 3. Constructing Normal Laplacian\n",
        "\n",
        "L = D - W"
      ]
    },
    {
      "cell_type": "code",
      "metadata": {
        "id": "x8zM32gvj_zb",
        "colab": {
          "base_uri": "https://localhost:8080/",
          "height": 34
        },
        "outputId": "f7b0b8d2-bb61-4fbb-e13e-9aadb788745d"
      },
      "source": [
        "np.asarray(degree_matrix).shape"
      ],
      "execution_count": null,
      "outputs": [
        {
          "output_type": "execute_result",
          "data": {
            "text/plain": [
              "(150, 1)"
            ]
          },
          "metadata": {
            "tags": []
          },
          "execution_count": 152
        }
      ]
    },
    {
      "cell_type": "code",
      "metadata": {
        "id": "nHsvtbDGi5br",
        "colab": {
          "base_uri": "https://localhost:8080/",
          "height": 238
        },
        "outputId": "6989f5f7-1e2f-49f0-df44-bde3e18cb7bc"
      },
      "source": [
        "np.diag(np.asarray(degree_matrix).reshape(data_size,))"
      ],
      "execution_count": null,
      "outputs": [
        {
          "output_type": "execute_result",
          "data": {
            "text/plain": [
              "array([[ 9.88985997,  0.        ,  0.        , ...,  0.        ,\n",
              "         0.        ,  0.        ],\n",
              "       [ 0.        ,  9.84957185,  0.        , ...,  0.        ,\n",
              "         0.        ,  0.        ],\n",
              "       [ 0.        ,  0.        ,  9.40776641, ...,  0.        ,\n",
              "         0.        ,  0.        ],\n",
              "       ...,\n",
              "       [ 0.        ,  0.        ,  0.        , ...,  9.88244354,\n",
              "         0.        ,  0.        ],\n",
              "       [ 0.        ,  0.        ,  0.        , ...,  0.        ,\n",
              "         9.87138597,  0.        ],\n",
              "       [ 0.        ,  0.        ,  0.        , ...,  0.        ,\n",
              "         0.        , 10.81779121]])"
            ]
          },
          "metadata": {
            "tags": []
          },
          "execution_count": 153
        }
      ]
    },
    {
      "cell_type": "code",
      "metadata": {
        "id": "YYPKwnbRiK3d"
      },
      "source": [
        "diagonal_matrix = np.diag(np.asarray(degree_matrix).reshape(data_size,))\n",
        "L =  diagonal_matrix - similarity_graph"
      ],
      "execution_count": null,
      "outputs": []
    },
    {
      "cell_type": "code",
      "metadata": {
        "id": "4h846d83iZv6",
        "colab": {
          "base_uri": "https://localhost:8080/",
          "height": 238
        },
        "outputId": "51c7c688-47e9-49fa-d2e7-0e2d318d5ad1"
      },
      "source": [
        "L"
      ],
      "execution_count": null,
      "outputs": [
        {
          "output_type": "execute_result",
          "data": {
            "text/plain": [
              "matrix([[ 9.88985997,  0.        , -0.99736371, ...,  0.        ,\n",
              "          0.        ,  0.        ],\n",
              "        [ 0.        ,  9.84957185,  0.        , ...,  0.        ,\n",
              "          0.        ,  0.        ],\n",
              "        [-0.99736371,  0.        ,  9.40776641, ...,  0.        ,\n",
              "          0.        ,  0.        ],\n",
              "        ...,\n",
              "        [ 0.        ,  0.        ,  0.        , ...,  9.88244354,\n",
              "          0.        ,  0.        ],\n",
              "        [ 0.        ,  0.        ,  0.        , ...,  0.        ,\n",
              "          9.87138597,  0.        ],\n",
              "        [ 0.        ,  0.        ,  0.        , ...,  0.        ,\n",
              "          0.        , 10.81779121]])"
            ]
          },
          "metadata": {
            "tags": []
          },
          "execution_count": 155
        }
      ]
    },
    {
      "cell_type": "markdown",
      "metadata": {
        "id": "1YCgIUcBm42l"
      },
      "source": [
        "Note:- By subtracting the similarity matrix from the degree matrix, the effect of cycles in a graph gets nullified. Finally, the Laplacian conatains the degree on diagonals and negative of edge weights in the rest of the matrix.\n"
      ]
    },
    {
      "cell_type": "code",
      "metadata": {
        "id": "YfL9DoR2pDcl"
      },
      "source": [
        "# We can also obtain the Laplacian using scipy \n",
        "\n",
        "L = sparse.csgraph.laplacian(csgraph=similarity_graph)"
      ],
      "execution_count": null,
      "outputs": []
    },
    {
      "cell_type": "markdown",
      "metadata": {
        "id": "hwN477reoSTF"
      },
      "source": [
        "### Properties of Laplacian\n",
        "\n",
        "1. Real symmetric\n",
        "\n",
        "Because its real and symmetric its eigen values are real and its eigen vectors orthogonal."
      ]
    },
    {
      "cell_type": "markdown",
      "metadata": {
        "id": "JNlvVLL2qoU1"
      },
      "source": [
        "2. Positive semi-definite\n",
        "\n",
        "The Laplacian has atleast one eigen value equal to 0. We can check this by its quadratic form. If $x$ is a n x 1 column vector , then $q = x'Lx$ is its quadratic form. \n",
        "\n",
        "A quadratic form is positive semi-definite if -\n",
        "\n",
        "$ Q ≥ 0 $ for all x and Q = 0 for some $ x \\ne 0 $\n",
        "\n",
        "We will set x to be a column vector of 1's."
      ]
    },
    {
      "cell_type": "code",
      "metadata": {
        "id": "TmJreMono34G",
        "colab": {
          "base_uri": "https://localhost:8080/",
          "height": 34
        },
        "outputId": "5224eabe-5de9-40ca-d434-96b7b2147cb8"
      },
      "source": [
        "x = np.ones(shape=(data_size,1), dtype=int)\n",
        "\n",
        "Q = np.dot(np.dot(x.T, L.todense()), x)\n",
        "\n",
        "Q.round(10)"
      ],
      "execution_count": null,
      "outputs": [
        {
          "output_type": "execute_result",
          "data": {
            "text/plain": [
              "array([[-0.]])"
            ]
          },
          "metadata": {
            "tags": []
          },
          "execution_count": 190
        }
      ]
    },
    {
      "cell_type": "markdown",
      "metadata": {
        "id": "3intFF78z1hf"
      },
      "source": [
        "Any column vector x containing same values throughout, will result in quadratic form equal to 0.\n",
        "3. The number of zero eigen values of Laplacian is equal to the number of connected components of the graph\n",
        "\n"
      ]
    },
    {
      "cell_type": "code",
      "metadata": {
        "id": "Kbw3oN7xzRW6",
        "colab": {
          "base_uri": "https://localhost:8080/",
          "height": 34
        },
        "outputId": "b72b801e-2002-4363-aa60-c4247367dd20"
      },
      "source": [
        "# Finding eigen values and eigen vectors\n",
        "e, evecs = np.linalg.eig(L.todense())\n",
        "e.shape, evecs.shape"
      ],
      "execution_count": null,
      "outputs": [
        {
          "output_type": "execute_result",
          "data": {
            "text/plain": [
              "((150,), (150, 150))"
            ]
          },
          "metadata": {
            "tags": []
          },
          "execution_count": 158
        }
      ]
    },
    {
      "cell_type": "code",
      "metadata": {
        "id": "pgP5_B43Te-A",
        "colab": {
          "base_uri": "https://localhost:8080/",
          "height": 34
        },
        "outputId": "6c6b62b7-9254-4a5f-c1f5-2985b4447ead"
      },
      "source": [
        "# No. of eigen values equal to 0\n",
        "e_rounded_off = e.round(5)\n",
        "e_rounded_off[e_rounded_off == 0].shape"
      ],
      "execution_count": null,
      "outputs": [
        {
          "output_type": "execute_result",
          "data": {
            "text/plain": [
              "(1,)"
            ]
          },
          "metadata": {
            "tags": []
          },
          "execution_count": 159
        }
      ]
    },
    {
      "cell_type": "code",
      "metadata": {
        "id": "suOZFJY8TxZt",
        "colab": {
          "base_uri": "https://localhost:8080/",
          "height": 34
        },
        "outputId": "31dab712-5bf7-47aa-dc7a-750e8bbb7529"
      },
      "source": [
        "# No. of connected components\n",
        "nx.number_connected_components(nx_graph)"
      ],
      "execution_count": null,
      "outputs": [
        {
          "output_type": "execute_result",
          "data": {
            "text/plain": [
              "1"
            ]
          },
          "metadata": {
            "tags": []
          },
          "execution_count": 160
        }
      ]
    },
    {
      "cell_type": "markdown",
      "metadata": {
        "id": "8FEndK3fgVPI"
      },
      "source": [
        "4. Two data points similar to each other having high edge weight will have similar values at their corresponding indices in the resulting eigen vectors.\n",
        "One of these eigen vectors in Fiedler vector - Eigen vector correponding to the smallest non-zero eigen value."
      ]
    },
    {
      "cell_type": "code",
      "metadata": {
        "id": "dmSHO2HSWYWK",
        "colab": {
          "base_uri": "https://localhost:8080/",
          "height": 390
        },
        "outputId": "42df82bf-3e61-4317-a105-be9d051b53dd"
      },
      "source": [
        "plt.figure(figsize=(8,6))\n",
        "plt.scatter(np.arange(data_size), evecs[:,1].tolist())\n",
        "plt.title(\"Eigen vector plot - Fiedler vector\")\n",
        "plt.show()"
      ],
      "execution_count": null,
      "outputs": [
        {
          "output_type": "display_data",
          "data": {
            "image/png": "[encoded data removed]",
            "text/plain": [
              "<Figure size 576x432 with 1 Axes>"
            ]
          },
          "metadata": {
            "tags": [],
            "needs_background": "light"
          }
        }
      ]
    },
    {
      "cell_type": "markdown",
      "metadata": {
        "id": "-u5lOq8qmJTV"
      },
      "source": [
        "The data points are quite well separated by sign. "
      ]
    },
    {
      "cell_type": "markdown",
      "metadata": {
        "id": "wPA2ktRmh6rC"
      },
      "source": [
        "\n",
        "\n",
        "### Application of Graph Laplacian \n",
        "\n",
        "By extension of all the above properties, and the fact that the eigen vector separates data points in groups, it is used for clustering. This method is called **Spectral clustering**.\n",
        "\n",
        "This is performed by choosing a threshold to separate data points into 2 clusters from the 1st smallest eigen vector. For more than 2 clusters, we can use Kmeans algorithm to obtain k clusters directly from the first smallest K eigen vectors.\n"
      ]
    },
    {
      "cell_type": "code",
      "metadata": {
        "id": "MKkfJ3ETUvE6"
      },
      "source": [
        "# Sort the eigen value \n",
        "sorted_indices = np.argsort(e)"
      ],
      "execution_count": null,
      "outputs": []
    },
    {
      "cell_type": "code",
      "metadata": {
        "id": "iCO9iJi8WnFz",
        "colab": {
          "base_uri": "https://localhost:8080/",
          "height": 390
        },
        "outputId": "a5daaf8b-950e-4b0d-e1e8-d07679b56a6e"
      },
      "source": [
        "plt.figure(figsize=(8,6))\n",
        "plt.scatter(np.arange(data_size), e)\n",
        "plt.title(\"Eigen values plot\")\n",
        "plt.show()"
      ],
      "execution_count": null,
      "outputs": [
        {
          "output_type": "display_data",
          "data": {
            "image/png": "[encoded data removed]",
            "text/plain": [
              "<Figure size 576x432 with 1 Axes>"
            ]
          },
          "metadata": {
            "tags": [],
            "needs_background": "light"
          }
        }
      ]
    },
    {
      "cell_type": "code",
      "metadata": {
        "id": "qfzPtIygV_fG",
        "colab": {
          "base_uri": "https://localhost:8080/",
          "height": 390
        },
        "outputId": "b50005f6-9b67-4ce7-c3d4-fdad0a1fbfbc"
      },
      "source": [
        "plt.figure(figsize=(8,6))\n",
        "plt.scatter(np.arange(data_size), np.sort(e))\n",
        "plt.title(\"Eigen values plot (Sorted)\")\n",
        "plt.show()"
      ],
      "execution_count": null,
      "outputs": [
        {
          "output_type": "display_data",
          "data": {
            "image/png": "[encoded data removed]",
            "text/plain": [
              "<Figure size 576x432 with 1 Axes>"
            ]
          },
          "metadata": {
            "tags": [],
            "needs_background": "light"
          }
        }
      ]
    },
    {
      "cell_type": "markdown",
      "metadata": {
        "id": "SBCPKeX2pc5R"
      },
      "source": [
        " Use Fiedler vector to partition data points\n",
        "\n",
        "The Fiedler vector is the eigen vector corresponding to smallest non-zero eigen value. Indices of values below 0 are assigned to cluster 1 and the indices of rest of them are assigned to cluster 2. \n",
        "\n",
        "We are able to use this vector this way because this normalized eigen vector is a scaled version of the indicator vector. An indicator vector is associated with every non-zero eigen value of a matrix. Each indicator vector is also orthogonal to each other and ideally conatains binary values 0 or 1 to indicate cluster membership.\n",
        "\n",
        "In this case, instead of indicator vector containing 0's and 1's, we have signed continuous values."
      ]
    },
    {
      "cell_type": "code",
      "metadata": {
        "id": "r7ivnp48pmHW",
        "colab": {
          "base_uri": "https://localhost:8080/",
          "height": 390
        },
        "outputId": "5cc1d1ca-4376-400d-b932-7eb48773c5b1"
      },
      "source": [
        "# Get smallest non-zero eigen value's index for obtaining partition to cluster\n",
        "fiedler_index = sorted_indices[1]\n",
        "fiedler_index\n",
        "\n",
        "# The eigen vector for smallest non-zero eigen value i.e plotting the Fiedler vector\n",
        "# Plotting eigen values\n",
        "plt.figure(figsize=(8,6))\n",
        "plt.scatter(np.arange(data_size), evecs[:,fiedler_index].tolist())\n",
        "plt.title(\"Eigen (Fiedler) vector plot\")\n",
        "plt.show()\n",
        "\n",
        "fiedler_vector = evecs[:,fiedler_index].copy()\n",
        "\n",
        "# Thresholding the values in this eigen vector at 0\n",
        "fiedler_vector[fiedler_vector < 0.0] = 0\n",
        "fiedler_vector[fiedler_vector > 0.0] = 1\n",
        "\n",
        "new_labels = np.asarray(fiedler_vector)[:,0]"
      ],
      "execution_count": null,
      "outputs": [
        {
          "output_type": "display_data",
          "data": {
            "image/png": "[encoded data removed]",
            "text/plain": [
              "<Figure size 576x432 with 1 Axes>"
            ]
          },
          "metadata": {
            "tags": [],
            "needs_background": "light"
          }
        }
      ]
    },
    {
      "cell_type": "markdown",
      "metadata": {
        "id": "ZqmVTBZIqCSY"
      },
      "source": [
        "#### Results\n"
      ]
    },
    {
      "cell_type": "code",
      "metadata": {
        "id": "o_9-rOWEqBEw",
        "colab": {
          "base_uri": "https://localhost:8080/",
          "height": 281
        },
        "outputId": "4148a148-f3de-48c8-c193-eec71d2a38a8"
      },
      "source": [
        "plt.scatter(features[:,0], features[:,1], c=new_labels.astype(float))\n",
        "plt.title(\"Clusters plot\")\n",
        "plt.show()"
      ],
      "execution_count": null,
      "outputs": [
        {
          "output_type": "display_data",
          "data": {
            "image/png": "[encoded data removed]",
            "text/plain": [
              "<Figure size 432x288 with 1 Axes>"
            ]
          },
          "metadata": {
            "tags": [],
            "needs_background": "light"
          }
        }
      ]
    },
    {
      "cell_type": "markdown",
      "metadata": {
        "id": "criDPDg-rmh9"
      },
      "source": [
        "Evaluation with entropy based external clustering evaluation measures"
      ]
    },
    {
      "cell_type": "code",
      "metadata": {
        "id": "ZEWD7dbJqpVS",
        "colab": {
          "base_uri": "https://localhost:8080/",
          "height": 34
        },
        "outputId": "4b7658e1-935c-4e1a-db3d-f01c82cfae61"
      },
      "source": [
        "homogeneity_score(y, new_labels), completeness_score(y, new_labels), v_measure_score(y, new_labels)"
      ],
      "execution_count": null,
      "outputs": [
        {
          "output_type": "execute_result",
          "data": {
            "text/plain": [
              "(1.0, 1.0, 1.0)"
            ]
          },
          "metadata": {
            "tags": []
          },
          "execution_count": 182
        }
      ]
    },
    {
      "cell_type": "markdown",
      "metadata": {
        "id": "hUVZ_KJtqq39"
      },
      "source": [
        "### Comparison with Kmeans "
      ]
    },
    {
      "cell_type": "code",
      "metadata": {
        "id": "KO04c9Jcqtwr",
        "colab": {
          "base_uri": "https://localhost:8080/",
          "height": 265
        },
        "outputId": "c68b7951-bfb1-49c9-c85d-d8af88af7aea"
      },
      "source": [
        "num_clusters = 2\n",
        "kmean_labels = KMeans(n_clusters=num_clusters, random_state=random_state, n_jobs=6).fit_predict(features)\n",
        "plt.scatter(features[:,0], features[:,1], c=kmean_labels.astype(float))\n",
        "plt.show()"
      ],
      "execution_count": null,
      "outputs": [
        {
          "output_type": "display_data",
          "data": {
            "image/png": "[encoded data removed]",
            "text/plain": [
              "<Figure size 432x288 with 1 Axes>"
            ]
          },
          "metadata": {
            "tags": [],
            "needs_background": "light"
          }
        }
      ]
    },
    {
      "cell_type": "code",
      "metadata": {
        "id": "UAY4YSZKrNgB",
        "colab": {
          "base_uri": "https://localhost:8080/",
          "height": 34
        },
        "outputId": "54a91870-a32b-473a-d52b-f9d0e0ae7f00"
      },
      "source": [
        "homogeneity_score(y, kmean_labels), completeness_score(y, kmean_labels), v_measure_score(y, kmean_labels)"
      ],
      "execution_count": null,
      "outputs": [
        {
          "output_type": "execute_result",
          "data": {
            "text/plain": [
              "(0.1836464702880451, 0.1837407327840609, 0.18369358944333708)"
            ]
          },
          "metadata": {
            "tags": []
          },
          "execution_count": 184
        }
      ]
    },
    {
      "cell_type": "markdown",
      "metadata": {
        "id": "4ow6S4i_nq_Z"
      },
      "source": [
        "### Why Eigen value system, though?\n",
        "Because the eigen value system approximates a graph cut.\n",
        "\n",
        "$Cut(V1,V2) = \\sum_{i \\in V_1, j \\in V_2} W_{ij} $\n",
        "\n",
        "Where the graph is bipartitioned into V1 & V2.\n",
        "\n",
        "In the above approach, the eigen values are approximating Normalized graph cut.\n",
        "\n",
        "$ NCut(V1,V2) = \\frac{Cut(V_1, V_2)}{Vol(V_1)} + \\frac{Cut(V_1, V_2)}{Vol(V_2)}$\n",
        "\n",
        "### So how is it so?\n",
        "The above equation of NCut can be re-expressed as Rayleigh's quotient, whose minimum is obtained by the smallest eigen value from a generalized eigen value problem.\n",
        "Let x be an N dimensional indicator vector where $x_i = 1$ if the graph node i is in $V_1$ and 0 otherwise.\n",
        "\n",
        "\n",
        "$min_x Ncut(x) = min_y \\frac{y^T(D-W)y}{y^Ty}$\n",
        "\n",
        "subject to one of the conditions $y^TD1=0$ \n",
        "\n",
        "where $y$ is also subject to constraints as that of our indicator vector $x$.\n",
        "\n",
        "\n",
        "This way the graph partitioning problem gets converted to clustering problem.\n",
        "\n"
      ]
    },
    {
      "cell_type": "code",
      "metadata": {
        "id": "BW6RnVt1X-0Z"
      },
      "source": [],
      "execution_count": null,
      "outputs": []
    }
  ]
}